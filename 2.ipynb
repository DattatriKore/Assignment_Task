{
 "cells": [
  {
   "cell_type": "code",
   "execution_count": 19,
   "id": "27392cb3",
   "metadata": {},
   "outputs": [
    {
     "name": "stdout",
     "output_type": "stream",
     "text": [
      "    code            location\n",
      "0  00000       UNITED STATES\n",
      "1  01000             ALABAMA\n",
      "2  01001  Autauga County, AL\n",
      "3  01003  Baldwin County, AL\n",
      "4  01005   Barbour County,AL\n"
     ]
    },
    {
     "name": "stderr",
     "output_type": "stream",
     "text": [
      "C:\\Users\\Dattatri  Kore\\AppData\\Local\\Temp\\ipykernel_11956\\177179332.py:9: FutureWarning: The default value of regex will change from True to False in a future version.\n",
      "  df['location'] = df['row'].str.replace(r'^\\d+\\s*', '')\n"
     ]
    }
   ],
   "source": [
    "import pandas as pd\n",
    "\n",
    "df = pd.DataFrame({'row': ['00000 UNITED STATES','01000 ALABAMA',\n",
    "                          '01001 Autauga County, AL','01003 Baldwin County, AL',\n",
    "                          '01005 Barbour County,AL']})\n",
    "\n",
    "# Split the 'row' column into 'code' and 'location'\n",
    "df['code'] = df['row'].str.extract(r'^(\\d+)')\n",
    "df['location'] = df['row'].str.replace(r'^\\d+\\s*', '')\n",
    "\n",
    "# Drop the original 'row' column\n",
    "df.drop(columns=['row'], inplace=True)\n",
    "\n",
    "# Display the resulting dataframe\n",
    "print(df)\n"
   ]
  },
  {
   "cell_type": "code",
   "execution_count": null,
   "id": "856e7eb1",
   "metadata": {},
   "outputs": [],
   "source": []
  }
 ],
 "metadata": {
  "kernelspec": {
   "display_name": "Python 3 (ipykernel)",
   "language": "python",
   "name": "python3"
  },
  "language_info": {
   "codemirror_mode": {
    "name": "ipython",
    "version": 3
   },
   "file_extension": ".py",
   "mimetype": "text/x-python",
   "name": "python",
   "nbconvert_exporter": "python",
   "pygments_lexer": "ipython3",
   "version": "3.9.13"
  }
 },
 "nbformat": 4,
 "nbformat_minor": 5
}
